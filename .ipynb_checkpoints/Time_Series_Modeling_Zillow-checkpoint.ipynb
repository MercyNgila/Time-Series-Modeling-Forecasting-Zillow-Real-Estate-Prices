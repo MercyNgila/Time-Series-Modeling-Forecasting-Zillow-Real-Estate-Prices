{
 "cells": [
  {
   "cell_type": "markdown",
   "metadata": {
    "id": "iMSdml1qVeXT"
   },
   "source": [
    "# **Time Series Analysis- Forecasting Zillow Real Estate Prices**"
   ]
  },
  {
   "cell_type": "markdown",
   "metadata": {
    "id": "WWT8gR1wEcQ0"
   },
   "source": [
    "### Authors\n",
    "\n",
    " - Keith Maina\n",
    " - Vivian Kingasia\n",
    " - Ann Maureen\n",
    " - Brian Kigen\n",
    " - Charity Gakuru\n",
    " - Hannah Mutua\n",
    " - Mercy Ngila\n",
    " - Steve Troy"
   ]
  },
  {
   "cell_type": "markdown",
   "metadata": {
    "id": "uPn8k9oWVWAV"
   },
   "source": [
    "# 1. Introduction"
   ]
  },
  {
   "cell_type": "markdown",
   "metadata": {
    "id": "S3wiRBuSVWAW"
   },
   "source": [
    "##  1.1. Business Understanding"
   ]
  },
  {
   "cell_type": "markdown",
   "metadata": {
    "id": "oCZlGmvWVWAX"
   },
   "source": [
    "### 1.1.1. Introduction\n",
    "In 2021, the real estate industry in the United States was valued at USD 3.69 trillion and was expected to experience a 5.2% compound interest growth for the period between 2022 and 2030. This potential predicted growth of the industry, coupled with rising population rates in the US create a huge lucrative opportunity potential for real estate investors to make huge profits provided they <b>manage risk</b> and <b>make the right investments</b>.<br>\n",
    "According to <a href= 'https://www.peoplescapitalgroup.com/average-roi-real-estate/'>People's Capital Group</a>, residential properties have an average annual return of 10.6% and commercial properties have a 9.5% average return."
   ]
  },
  {
   "cell_type": "markdown",
   "metadata": {
    "id": "F9ZiZKd5VWAZ"
   },
   "source": [
    "### 1.1.2. Problem Statement\n",
    "The stakeholder in this project is a real estate investment firm that is looking to construct residential homes in top five locations in the US that would provide a high return on their investment. This project therefore is a time series analysis on a Zillow dataset on various locations around the United States.<br><br>\n",
    "\n",
    "The project will involve analyzing the house sale prices from 1996 to 2018 to determine the top five locations with the highest Return on Investment (ROI).<br>\n",
    "The stakeholder is also risk-averse and therefore the project involves recommending locations with low price volatility which can easily be predicted with the model.<br>\n",
    "\n",
    "### 1.1.3. Metric of Success\n",
    "\n",
    "In our time series analysis, the metric of success to determine model viability will be MAPE-Mean Absolute Percentage Error.This metric was chosen as it gives the weighted error values i.e errors are divided by the true values.So incase of oultiers, they are handled well. RMSE only looks at the real minus the predicted, and outliers in data could give the wrong impression of how the model is performing\n",
    "\n",
    "### 1.1.4. Project Scope\n",
    "The primary goal of this project will be to conduct a time series analysis to predict the five best locations to invest in based on ROI."
   ]
  },
  {
   "cell_type": "markdown",
   "metadata": {
    "id": "W1yReLS5VWAc"
   },
   "source": [
    "### 1.1.5. Problem Questions\n",
    "- What are the five best locations to invest in around the US?\n",
    "- What makes these locations so lucrative?\n",
    "- Does urbanization affect the prices of houses?\n",
    "- How long does it take to cash out on the investment?\n",
    "- How risky <b>(measured as coefficient of variation)</b> is the investment?\n",
    "- When are the prices most volatile <b>(measured as frequency of price change in a small timeframe)</b> and \n",
    "- where are the locations of the houses with most volatility?\n",
    "- How much profit can investors potentially make based on our predictions?\n"
   ]
  },
  {
   "cell_type": "markdown",
   "metadata": {
    "id": "mZ8edEunVWAe"
   },
   "source": [
    "### 1.1.6. Project Objectives\n",
    "1. Provide effective real estate investment recommendations to the stakeholder.\n",
    "2. Increase the real estate investor’s customer base.\n"
   ]
  },
  {
   "cell_type": "markdown",
   "metadata": {
    "id": "Iol1M3Rzh8ZQ"
   },
   "source": [
    "\n",
    "### 1.1.7.  Defining the Experimental Design\n",
    "\n",
    "- Import the relevant libraries used in the analysis.\n",
    "\n",
    "- Load dataset\n",
    "\n",
    "- Read and explore the dataset we will use for our project.\n",
    "\n",
    "- Data Cleaning & Preparation\n",
    "\n",
    "- Exploratory Data Analysis (EDA)\n",
    "\n",
    "- Data Pre-processing\n",
    "\n",
    "- Modelling & Evaluation\n",
    "\n",
    "- Challenging the model\n",
    "\n",
    "- Conclusion\n",
    "\n",
    "- Recommendations\n"
   ]
  },
  {
   "cell_type": "markdown",
   "metadata": {
    "id": "pAXY5-1ZKzM1"
   },
   "source": [
    "# 2. Data Understanding"
   ]
  },
  {
   "cell_type": "markdown",
   "metadata": {
    "id": "EmK53auFKzM2"
   },
   "source": [
    "The data used in this project was sampled from different states in USA. It contains historic median house prices from the period between April 1996 to April 2018 (22 Years).\n",
    "The data was obtained from [zillow website](https://www.zillow.com/research/data/).\n",
    "\n",
    "The dataset has 14723 rows and  272 columns.\n",
    "\n",
    "Out of the 272 columns, there are 4 categorical columns and the rest are numerical.\n",
    "\n",
    "Column names and description:\n",
    "- RegionID - Unique region identifier\n",
    "- RegionName - Names of the Regions (Zipcodes)\n",
    "- City - City names for the regions\n",
    "- State - Names of the states\n",
    "- Metro - Names of metropolitan areas\n",
    "- County Name - Names of counties\n",
    "- Size Rank - Rank of Zipcodes by urbanization\n",
    "- Date Columns (265 Columns) - Meidan house prices across the years \n"
   ]
  },
  {
   "cell_type": "markdown",
   "metadata": {
    "id": "sDqzYmRHVWAi"
   },
   "source": [
    "# 3. Data Preparation"
   ]
  },
  {
   "cell_type": "markdown",
   "metadata": {
    "id": "nrLUymldVWAj"
   },
   "source": [
    "### 3.1. Importing Libraries"
   ]
  },
  {
   "cell_type": "markdown",
   "metadata": {
    "id": "5rXlggkJKzM7"
   },
   "source": [
    "### 3.2. Loading Data"
   ]
  },
  {
   "cell_type": "code",
   "execution_count": 1,
   "metadata": {
    "colab": {
     "base_uri": "https://localhost:8080/"
    },
    "id": "Lgw8k5pkVWAk",
    "outputId": "2409734b-fc61-4ba3-814e-fc01b6fa2146",
    "scrolled": true
   },
   "outputs": [
    {
     "name": "stdout",
     "output_type": "stream",
     "text": [
      "Collecting pmdarima\n",
      "  Downloading pmdarima-2.0.1-cp38-cp38-macosx_10_9_x86_64.whl (601 kB)\n",
      "\u001b[K     |████████████████████████████████| 601 kB 854 kB/s eta 0:00:01\n",
      "\u001b[?25hRequirement already satisfied: pandas>=0.19 in /Users/mercyngila/opt/anaconda3/envs/learn-env/lib/python3.8/site-packages (from pmdarima) (1.4.3)\n",
      "Requirement already satisfied: scikit-learn>=0.22 in /Users/mercyngila/opt/anaconda3/envs/learn-env/lib/python3.8/site-packages (from pmdarima) (0.23.2)\n",
      "Requirement already satisfied: joblib>=0.11 in /Users/mercyngila/opt/anaconda3/envs/learn-env/lib/python3.8/site-packages (from pmdarima) (1.1.0)\n",
      "Requirement already satisfied: Cython!=0.29.18,!=0.29.31,>=0.29 in /Users/mercyngila/opt/anaconda3/envs/learn-env/lib/python3.8/site-packages (from pmdarima) (0.29.21)\n",
      "Requirement already satisfied: urllib3 in /Users/mercyngila/opt/anaconda3/envs/learn-env/lib/python3.8/site-packages (from pmdarima) (1.25.10)\n",
      "Requirement already satisfied: numpy>=1.21 in /Users/mercyngila/opt/anaconda3/envs/learn-env/lib/python3.8/site-packages (from pmdarima) (1.23.1)\n",
      "Collecting statsmodels>=0.13.2\n",
      "  Downloading statsmodels-0.13.2-cp38-cp38-macosx_10_9_x86_64.whl (9.6 MB)\n",
      "\u001b[K     |████████████████████████████████| 9.6 MB 1.3 MB/s eta 0:00:01\n",
      "\u001b[?25hRequirement already satisfied: scipy>=1.3.2 in /Users/mercyngila/opt/anaconda3/envs/learn-env/lib/python3.8/site-packages (from pmdarima) (1.5.2)\n",
      "Requirement already satisfied: setuptools!=50.0.0,>=38.6.0 in /Users/mercyngila/opt/anaconda3/envs/learn-env/lib/python3.8/site-packages (from pmdarima) (50.3.0.post20201103)\n",
      "Requirement already satisfied: pytz>=2020.1 in /Users/mercyngila/opt/anaconda3/envs/learn-env/lib/python3.8/site-packages (from pandas>=0.19->pmdarima) (2022.1)\n",
      "Requirement already satisfied: python-dateutil>=2.8.1 in /Users/mercyngila/opt/anaconda3/envs/learn-env/lib/python3.8/site-packages (from pandas>=0.19->pmdarima) (2.8.2)\n",
      "Requirement already satisfied: threadpoolctl>=2.0.0 in /Users/mercyngila/opt/anaconda3/envs/learn-env/lib/python3.8/site-packages (from scikit-learn>=0.22->pmdarima) (2.1.0)\n",
      "Collecting packaging>=21.3\n",
      "  Using cached packaging-21.3-py3-none-any.whl (40 kB)\n",
      "Collecting patsy>=0.5.2\n",
      "  Downloading patsy-0.5.2-py2.py3-none-any.whl (233 kB)\n",
      "\u001b[K     |████████████████████████████████| 233 kB 1.3 MB/s eta 0:00:01\n",
      "\u001b[?25hRequirement already satisfied: six>=1.5 in /Users/mercyngila/opt/anaconda3/envs/learn-env/lib/python3.8/site-packages (from python-dateutil>=2.8.1->pandas>=0.19->pmdarima) (1.16.0)\n",
      "Requirement already satisfied: pyparsing!=3.0.5,>=2.0.2 in /Users/mercyngila/opt/anaconda3/envs/learn-env/lib/python3.8/site-packages (from packaging>=21.3->statsmodels>=0.13.2->pmdarima) (2.4.7)\n",
      "Installing collected packages: packaging, patsy, statsmodels, pmdarima\n",
      "  Attempting uninstall: packaging\n",
      "    Found existing installation: packaging 20.4\n",
      "    Uninstalling packaging-20.4:\n",
      "      Successfully uninstalled packaging-20.4\n",
      "  Attempting uninstall: patsy\n",
      "    Found existing installation: patsy 0.5.1\n",
      "    Uninstalling patsy-0.5.1:\n",
      "      Successfully uninstalled patsy-0.5.1\n",
      "  Attempting uninstall: statsmodels\n",
      "    Found existing installation: statsmodels 0.12.0\n",
      "    Uninstalling statsmodels-0.12.0:\n",
      "      Successfully uninstalled statsmodels-0.12.0\n",
      "Successfully installed packaging-21.3 patsy-0.5.2 pmdarima-2.0.1 statsmodels-0.13.2\n"
     ]
    },
    {
     "ename": "ImportError",
     "evalue": "cannot import name 'mean_absolute_percentage_error' from 'sklearn.metrics' (/Users/mercyngila/opt/anaconda3/envs/learn-env/lib/python3.8/site-packages/sklearn/metrics/__init__.py)",
     "output_type": "error",
     "traceback": [
      "\u001b[0;31m---------------------------------------------------------------------------\u001b[0m",
      "\u001b[0;31mImportError\u001b[0m                               Traceback (most recent call last)",
      "\u001b[0;32m<ipython-input-1-ce68b29e9ea3>\u001b[0m in \u001b[0;36m<module>\u001b[0;34m\u001b[0m\n\u001b[1;32m     26\u001b[0m \u001b[0;34m\u001b[0m\u001b[0m\n\u001b[1;32m     27\u001b[0m \u001b[0;31m# Metrics Libraries\u001b[0m\u001b[0;34m\u001b[0m\u001b[0;34m\u001b[0m\u001b[0;34m\u001b[0m\u001b[0m\n\u001b[0;32m---> 28\u001b[0;31m \u001b[0;32mfrom\u001b[0m \u001b[0msklearn\u001b[0m\u001b[0;34m.\u001b[0m\u001b[0mmetrics\u001b[0m \u001b[0;32mimport\u001b[0m \u001b[0mmean_absolute_percentage_error\u001b[0m\u001b[0;34m\u001b[0m\u001b[0;34m\u001b[0m\u001b[0m\n\u001b[0m",
      "\u001b[0;31mImportError\u001b[0m: cannot import name 'mean_absolute_percentage_error' from 'sklearn.metrics' (/Users/mercyngila/opt/anaconda3/envs/learn-env/lib/python3.8/site-packages/sklearn/metrics/__init__.py)"
     ]
    }
   ],
   "source": [
    "# importing relevant libraries\n",
    "\n",
    "# Analysis libraries\n",
    "import pandas as pd \n",
    "import numpy as np\n",
    "\n",
    "# Visualization libraries\n",
    "import matplotlib.pyplot as plt\n",
    "%matplotlib inline\n",
    "import seaborn as sns\n",
    "\n",
    "# Warning libraries\n",
    "import warnings\n",
    "warnings.simplefilter(\"ignore\")\n",
    "warnings.filterwarnings('ignore')\n",
    "\n",
    "# Modelling libraries\n",
    "from statsmodels.graphics.tsaplots import plot_pacf\n",
    "from statsmodels.graphics.tsaplots import plot_acf\n",
    "from statsmodels.tsa.arima.model import ARIMA\n",
    "import statsmodels.api as sm\n",
    "from statsmodels.tsa.stattools import adfuller\n",
    "!pip install pmdarima\n",
    "import pmdarima as pm #a library to help with auto_arima\n",
    "import itertools\n",
    "\n",
    "# Metrics Libraries\n",
    "from sklearn.metrics import mean_absolute_percentage_error\n"
   ]
  },
  {
   "cell_type": "code",
   "execution_count": null,
   "metadata": {
    "colab": {
     "base_uri": "https://localhost:8080/"
    },
    "id": "U7zaCxbwfGlH",
    "outputId": "af59049a-e9c9-435c-aa30-2196b16cae9e"
   },
   "outputs": [],
   "source": [
    "from google.colab import drive\n",
    "drive.mount('/content/drive')"
   ]
  },
  {
   "cell_type": "code",
   "execution_count": null,
   "metadata": {
    "colab": {
     "base_uri": "https://localhost:8080/",
     "height": 322
    },
    "id": "8Sh38cOuVWAm",
    "outputId": "5e988506-20b8-4cfe-dfe8-0b44dedcc9d2",
    "scrolled": true
   },
   "outputs": [],
   "source": [
    "# loading the dataset\n",
    "df = pd.read_csv('/content/drive/Shareddrives/The League/Dataset/zillow_data.csv')\n",
    "df.head()"
   ]
  },
  {
   "cell_type": "code",
   "execution_count": null,
   "metadata": {
    "colab": {
     "base_uri": "https://localhost:8080/"
    },
    "id": "wyWv1s75VWAo",
    "outputId": "9fc1ee0e-1c5b-4102-a1cc-8c892a83fbf2",
    "scrolled": true
   },
   "outputs": [],
   "source": [
    "# getting the columns in the dataset\n",
    "df.columns"
   ]
  },
  {
   "cell_type": "markdown",
   "metadata": {
    "id": "1NIInC2cVWAp"
   },
   "source": [
    "### 3.3. Data Cleaning"
   ]
  },
  {
   "cell_type": "markdown",
   "metadata": {
    "id": "xQFe9l00VWAs"
   },
   "source": [
    "####  3.2.1 Validity\n",
    "- Checking for validity of data.\n",
    "- Dropping any unnecessary columns.\n",
    "- Renaming columns.\n",
    "- Creating columns that may be necessary."
   ]
  },
  {
   "cell_type": "markdown",
   "metadata": {
    "id": "mLhQWMuiVWAs"
   },
   "source": [
    "The RegionName contains zipcode data. It will be renamed to Zipcode.\n"
   ]
  },
  {
   "cell_type": "code",
   "execution_count": null,
   "metadata": {
    "colab": {
     "base_uri": "https://localhost:8080/",
     "height": 0
    },
    "id": "qPqUhXEUVWAt",
    "outputId": "5eb7a528-5ebe-40a1-9c1c-0006a70ed540",
    "scrolled": true
   },
   "outputs": [],
   "source": [
    "# Rename RegionName to zipcode\n",
    "\n",
    "df = df.rename(columns={'RegionName': 'Zipcode'})\n",
    "df.tail()"
   ]
  },
  {
   "cell_type": "markdown",
   "metadata": {
    "id": "hL_1sTIDVWAt"
   },
   "source": [
    "### 2.2.2 Completeness \n",
    "- Handling the missing values in the dataframe. "
   ]
  },
  {
   "cell_type": "code",
   "execution_count": null,
   "metadata": {
    "colab": {
     "base_uri": "https://localhost:8080/"
    },
    "id": "PS9y-0MyVWAu",
    "outputId": "f0707c3f-6325-423d-dda6-6362139578bc",
    "scrolled": true
   },
   "outputs": [],
   "source": [
    "# Check for null values \n",
    "\n",
    "print(f'The data has {df.isna().sum().sum()} missing values')"
   ]
  },
  {
   "cell_type": "code",
   "execution_count": null,
   "metadata": {
    "id": "t1gwKOp2KzM_",
    "scrolled": true
   },
   "outputs": [],
   "source": [
    "# Define a function to explore missing data\n",
    "def missing_data(df):\n",
    "    missing_data = df.isna().sum()\n",
    "    missing_data = missing_data[missing_data>0]\n",
    "    return missing_data.to_frame()"
   ]
  },
  {
   "cell_type": "code",
   "execution_count": null,
   "metadata": {
    "id": "VkS6wECDKzM_",
    "scrolled": true
   },
   "outputs": [],
   "source": [
    "# expanding the number of visible columns\n",
    "pd.set_option('display.max_columns', None)"
   ]
  },
  {
   "cell_type": "code",
   "execution_count": null,
   "metadata": {
    "colab": {
     "base_uri": "https://localhost:8080/",
     "height": 0
    },
    "id": "sbP9JGVpVWAv",
    "outputId": "d203a9dd-55fb-40cb-b504-e0161b06b634",
    "scrolled": true
   },
   "outputs": [],
   "source": [
    "# Apply missing_data function to the dataframe\n",
    "missing_data(df).T"
   ]
  },
  {
   "cell_type": "markdown",
   "metadata": {
    "id": "8oQi2mnKKzNA"
   },
   "source": [
    "- The missing values in the date columns will be filled through interpolation.\n",
    "- The missing values in the metro column will be replaced with 'missing'"
   ]
  },
  {
   "cell_type": "code",
   "execution_count": null,
   "metadata": {
    "id": "6gMnVr7JVWAv",
    "scrolled": true
   },
   "outputs": [],
   "source": [
    "# imputing the missing values by replacing them with 'missing'\n",
    "\n",
    "df.Metro.fillna('missing', inplace=True)"
   ]
  },
  {
   "cell_type": "code",
   "execution_count": null,
   "metadata": {
    "id": "AzRsm7LIKzNA",
    "scrolled": true
   },
   "outputs": [],
   "source": [
    "# interpolate missing values on date columns\n",
    "df.interpolate(inplace=True)\n"
   ]
  },
  {
   "cell_type": "code",
   "execution_count": null,
   "metadata": {
    "colab": {
     "base_uri": "https://localhost:8080/"
    },
    "id": "hLD11LTvKzNB",
    "outputId": "c9e77abe-08e2-4a32-fcc2-17634b991586",
    "scrolled": true
   },
   "outputs": [],
   "source": [
    "# checking to see if missing values have been replaced\n",
    "\n",
    "print(f'The data has {df.isna().sum().sum()} missing values')"
   ]
  },
  {
   "cell_type": "markdown",
   "metadata": {
    "id": "leGTk0FPVWAw"
   },
   "source": [
    "### 2.2.3 Consistency\n",
    "- Checking for duplicates"
   ]
  },
  {
   "cell_type": "code",
   "execution_count": null,
   "metadata": {
    "colab": {
     "base_uri": "https://localhost:8080/"
    },
    "id": "dbC93ePJVWAw",
    "outputId": "9c45bb3b-a98b-419c-8602-01578ce0cd15",
    "scrolled": true
   },
   "outputs": [],
   "source": [
    "# checking for duplicates\n",
    "\n",
    "print(f'The data has {df.duplicated().sum()} duplicates')"
   ]
  },
  {
   "cell_type": "markdown",
   "metadata": {
    "id": "ihkeUQJlVWAx"
   },
   "source": [
    "- The data has no duplicates hence it's consistent."
   ]
  },
  {
   "cell_type": "markdown",
   "metadata": {
    "id": "zuTp1H2aVWAx"
   },
   "source": [
    "### 2.2.4 Uniformity\n",
    "- Checking different columns to ensure that they are correct."
   ]
  },
  {
   "cell_type": "markdown",
   "metadata": {
    "id": "9R8oYv4eVhez"
   },
   "source": [
    "- Region ID is a unique identifier so it will not be explored further.\n",
    "- The Zipcode column will be explored."
   ]
  },
  {
   "cell_type": "code",
   "execution_count": null,
   "metadata": {
    "colab": {
     "base_uri": "https://localhost:8080/"
    },
    "id": "3XOdEtegVWAy",
    "outputId": "799a2fe4-beee-449b-a2ff-a4b094fab1ea",
    "scrolled": true
   },
   "outputs": [],
   "source": [
    "# exploring the datatype of zipcode column\n",
    "\n",
    "df.dtypes['Zipcode']"
   ]
  },
  {
   "cell_type": "markdown",
   "metadata": {
    "id": "OAF2c2MtVWAy"
   },
   "source": [
    "Zipcodes represent locations and so should be categorical data types. The Zipcode column will be converted from integer to string type."
   ]
  },
  {
   "cell_type": "code",
   "execution_count": null,
   "metadata": {
    "colab": {
     "base_uri": "https://localhost:8080/"
    },
    "id": "0-SvlhXyVWAy",
    "outputId": "57ddb289-9089-488d-f878-c905f99e06fb",
    "scrolled": true
   },
   "outputs": [],
   "source": [
    "# Convert all the zipcodes to strings \n",
    "\n",
    "df.Zipcode = df.Zipcode.astype('string')\n",
    "print(df.dtypes[\"Zipcode\"])"
   ]
  },
  {
   "cell_type": "code",
   "execution_count": null,
   "metadata": {
    "colab": {
     "base_uri": "https://localhost:8080/"
    },
    "id": "zTAxtHKxVWAz",
    "outputId": "8140967a-7e8f-4d8c-91e8-fe0b025cd923",
    "scrolled": true
   },
   "outputs": [],
   "source": [
    "# exploring the format of the zip codes\n",
    "\n",
    "print(df.Zipcode.min())\n",
    "print(df.Zipcode.max())"
   ]
  },
  {
   "cell_type": "markdown",
   "metadata": {
    "id": "Zlbh8Ws1WZnN"
   },
   "source": [
    "Some zipcodes have four digits and others five. The column needs to be restructured to ensure all the digits are five in number. The columns with four digits seem to be missing a zero at the beginning."
   ]
  },
  {
   "cell_type": "code",
   "execution_count": null,
   "metadata": {
    "id": "dDDamR6iVWAz",
    "scrolled": true
   },
   "outputs": [],
   "source": [
    "# The zipcodes need to be 5 digits long, so a zero will be added to the ones that have four digits \n",
    "\n",
    "for i in range(len(df)):\n",
    "    df.Zipcode[i] = df.Zipcode[i].rjust(5, '0')"
   ]
  },
  {
   "cell_type": "code",
   "execution_count": null,
   "metadata": {
    "colab": {
     "base_uri": "https://localhost:8080/"
    },
    "id": "UcsY7OsvVWAz",
    "outputId": "f348b928-d1b3-42ff-ff3b-1e12cff0eab2",
    "scrolled": true
   },
   "outputs": [],
   "source": [
    "print(df.Zipcode.min())"
   ]
  },
  {
   "cell_type": "markdown",
   "metadata": {
    "id": "V_SkwEFSVWA0"
   },
   "source": [
    "All the zipcodes are now 5 digits long"
   ]
  },
  {
   "cell_type": "markdown",
   "metadata": {
    "id": "OU2o5kL8eiCk"
   },
   "source": [
    "To solve the problems raised under business understanding, two columns will be created.\n",
    "- Return on Investment (ROI)\n",
    "- Coefficient of variation (CV)\n"
   ]
  },
  {
   "cell_type": "code",
   "execution_count": null,
   "metadata": {
    "id": "9tV6sg4YeiCl",
    "scrolled": true
   },
   "outputs": [],
   "source": [
    "# calculating and creating a new column -ROI\n",
    "\n",
    "df['ROI'] = (df['2018-04']/ df['1996-04'])-1\n",
    "\n",
    "\n",
    "\n",
    "#calculating std to be used to find CV\n",
    "df[\"std\"] = df.loc[:, \"1996-04\":\"2018-04\"].std(skipna=True, axis=1)\n",
    "\n",
    "#calculating mean to be used to find CV\n",
    "df[\"mean\"] = df.loc[:, \"1996-04\":\"2018-04\"].mean(skipna=True, axis=1)\n",
    "\n",
    "# calculating and creating a new column - CV\n",
    "\n",
    "df[\"CV\"] = df['std']/df[\"mean\"]\n",
    "\n",
    "# dropping std and mean as they are not necessary for analysis\n",
    "\n",
    "df.drop([\"std\", \"mean\"], inplace=True, axis=1)"
   ]
  },
  {
   "cell_type": "code",
   "execution_count": null,
   "metadata": {
    "colab": {
     "base_uri": "https://localhost:8080/",
     "height": 0
    },
    "id": "qICVDZJneiCl",
    "outputId": "c68ccf71-ddbb-4cb2-84ac-609e07b837fe",
    "scrolled": true
   },
   "outputs": [],
   "source": [
    "df[[\"Zipcode\", \"ROI\", \"CV\"]].head()"
   ]
  },
  {
   "cell_type": "markdown",
   "metadata": {
    "id": "mTVvmTbpVWA0"
   },
   "source": [
    "### Convert the dataset into time series"
   ]
  },
  {
   "cell_type": "markdown",
   "metadata": {
    "id": "AZCeYvJQVWA0"
   },
   "source": [
    "A time series will be created by changing the dataframe from wide view to long view, and indexing it by the Date."
   ]
  },
  {
   "cell_type": "code",
   "execution_count": null,
   "metadata": {
    "id": "CqGp4VGfVWA0",
    "scrolled": true
   },
   "outputs": [],
   "source": [
    "# Create a copy of the dataset to convert into long view while preserving df as a wide view for EDA\n",
    "new_df = df.copy()"
   ]
  },
  {
   "cell_type": "code",
   "execution_count": null,
   "metadata": {
    "id": "WRzAJpFOVWA0",
    "scrolled": true
   },
   "outputs": [],
   "source": [
    "# creating a function that changes the dataframe structure from wide view to long view\n",
    "\n",
    "def melt_df(data):\n",
    "    melted = pd.melt(data, id_vars=['RegionID','Zipcode', 'City', 'State', 'Metro', 'CountyName', 'SizeRank', \n",
    "                                  'ROI', 'CV' ], var_name='Date')\n",
    "    melted['Date'] = pd.to_datetime(melted['Date'], infer_datetime_format=True)\n",
    "    melted = melted.dropna(subset=['value'])\n",
    "    return melted"
   ]
  },
  {
   "cell_type": "code",
   "execution_count": null,
   "metadata": {
    "id": "yei07fuLVWA1",
    "scrolled": true
   },
   "outputs": [],
   "source": [
    "new_df = melt_df(new_df)"
   ]
  },
  {
   "cell_type": "code",
   "execution_count": null,
   "metadata": {
    "id": "lN76DaAyeiCm",
    "scrolled": true
   },
   "outputs": [],
   "source": [
    "# Converting the date data type into date time and indexing\n",
    "\n",
    "new_df['Date'] = pd.to_datetime(new_df['Date'], format='%m/%y')\n",
    "\n",
    "# Set the 'Date' column as index\n",
    "\n",
    "new_df.set_index('Date', inplace=True)"
   ]
  },
  {
   "cell_type": "code",
   "execution_count": null,
   "metadata": {
    "id": "SgidMk1BeiCm",
    "scrolled": true
   },
   "outputs": [],
   "source": [
    "# renaming the column value to median_price\n",
    "\n",
    "new_df.rename(columns = {\"value\" : \"median_houseprice\"}, inplace=True)\n"
   ]
  },
  {
   "cell_type": "code",
   "execution_count": null,
   "metadata": {
    "colab": {
     "base_uri": "https://localhost:8080/",
     "height": 0
    },
    "id": "QF0kJekJVWA1",
    "outputId": "26e1bd92-4e7d-425b-9ad4-67899a262899",
    "scrolled": true
   },
   "outputs": [],
   "source": [
    "# displaying the final cleaned data\n",
    "new_df.head()"
   ]
  },
  {
   "cell_type": "markdown",
   "metadata": {
    "id": "7Wkxw9KaVWA2"
   },
   "source": [
    "# 4. EDA\n",
    "\n",
    "Exploration will be done on the data to determine:\n",
    "1. Does Urbanization Affect Median House Prices?\n",
    "2. Which cities fetch the highest median house prices?\n",
    "3. What top 5 Zipcodes have the highest ROI?\n",
    "4. Which zipcodes have high price volatility?\n",
    "5. What is the trend of median houseprices over the years?hat is the trend of median houseprices over the years?\n"
   ]
  },
  {
   "cell_type": "code",
   "execution_count": null,
   "metadata": {
    "colab": {
     "base_uri": "https://localhost:8080/"
    },
    "id": "mcwq2NKseiCn",
    "outputId": "a1cd1cd9-b93e-4c26-d458-1f0320e8acb8",
    "scrolled": true
   },
   "outputs": [],
   "source": [
    "# Explore the data information\n",
    "new_df.info()"
   ]
  },
  {
   "cell_type": "markdown",
   "metadata": {
    "id": "npkAbDOseiCn"
   },
   "source": [
    "The data has ten columns, five of which are numerical and five categorical. "
   ]
  },
  {
   "cell_type": "code",
   "execution_count": null,
   "metadata": {
    "colab": {
     "base_uri": "https://localhost:8080/",
     "height": 300
    },
    "id": "VHZZmg2WeiCo",
    "outputId": "e1b051c0-da41-47dc-d541-5afe6d4dc3d1",
    "scrolled": true
   },
   "outputs": [],
   "source": [
    "# exploring the statistics of the data columns \n",
    "\n",
    "explore_df = df[['RegionID', 'SizeRank', 'ROI', 'CV']]\n",
    "\n",
    "explore_df.describe()"
   ]
  },
  {
   "cell_type": "markdown",
   "metadata": {
    "id": "rs7ooN2NeiCo"
   },
   "source": [
    "### 4.1. Does Urbanization Affect Median House Prices?"
   ]
  },
  {
   "cell_type": "code",
   "execution_count": null,
   "metadata": {
    "id": "jbb4h5FaeiCo",
    "scrolled": true
   },
   "outputs": [],
   "source": [
    "# grouping median house prices by size rank\n",
    "\n",
    "urban_housevalue = pd.DataFrame(new_df.groupby(\"SizeRank\")[\"median_houseprice\"].mean()\n",
    "                                .sort_values(ascending=False).head(5))"
   ]
  },
  {
   "cell_type": "code",
   "execution_count": null,
   "metadata": {
    "colab": {
     "base_uri": "https://localhost:8080/",
     "height": 166
    },
    "id": "jeFxZIK9eiCo",
    "outputId": "f84e3760-982e-4bcb-c201-1ee92cdcede9",
    "scrolled": true
   },
   "outputs": [],
   "source": [
    "bar_plot(urban_housevalue)"
   ]
  },
  {
   "cell_type": "markdown",
   "metadata": {
    "id": "oy3cEkAheiCp"
   },
   "source": [
    "Size Rank represents urbanization from a rank 1 with 1 being the most urbanized area.\n",
    "From the plot analysis, highly urban areas do fetch high median house prices since sizeRank 273 (New York, New York) shows the highest median house \n",
    "price. Rank 21 and 22 also represent New York. Four out of the top five ranks are from New York state.\n",
    "So urbanization does not affect median house prices."
   ]
  },
  {
   "cell_type": "markdown",
   "metadata": {
    "id": "aF9nnn2SeiCp"
   },
   "source": [
    "### 4.2. Which cities fetch the highest median house prices?"
   ]
  },
  {
   "cell_type": "code",
   "execution_count": null,
   "metadata": {
    "id": "hxyTWqH3eiCp",
    "scrolled": true
   },
   "outputs": [],
   "source": [
    "# exploring top ten cities with highest house prices\n",
    "\n",
    "houseprice_topcities = pd.DataFrame(new_df.groupby(\"City\")[\"median_houseprice\"].mean()\n",
    "                                    .sort_values(ascending=False).head(5))"
   ]
  },
  {
   "cell_type": "code",
   "execution_count": null,
   "metadata": {
    "colab": {
     "base_uri": "https://localhost:8080/",
     "height": 793
    },
    "id": "WM-C1dROeiCp",
    "outputId": "680fb899-3bec-44a9-b178-b025f5803c00",
    "scrolled": true
   },
   "outputs": [],
   "source": [
    "ax = houseprice_topcities.plot(kind='bar', figsize=(20,10), color=\"green\", fontsize=13);\n",
    "ax.set_alpha(0.8)\n",
    "\n",
    "ax.set_title(\"Top Ten Median House Prices by Cities\", fontsize=26)\n",
    "ax.set_ylabel(\"Average Median House Price\", fontsize=20);\n",
    "ax.set_xlabel(\"Cities\", fontsize=20)\n",
    "plt.xticks(fontsize= 18)\n",
    "plt.savefig(\"output.jpg\")\n",
    "plt.show()"
   ]
  },
  {
   "cell_type": "markdown",
   "metadata": {
    "id": "4OL_QPuqeiCq"
   },
   "source": [
    "The top three cities with the highest median house prices are Atherton (California), Palm Beach(Florida) and Snowmass Village\n",
    "(Colorado)."
   ]
  },
  {
   "cell_type": "markdown",
   "metadata": {
    "id": "L0zro3SieiCq"
   },
   "source": [
    "### 4.3. What top 5 Zipcodes have the highest ROI?"
   ]
  },
  {
   "cell_type": "code",
   "execution_count": null,
   "metadata": {
    "id": "fAcFiv1keiCq",
    "scrolled": true
   },
   "outputs": [],
   "source": [
    "ROI_topzipcodes = pd.DataFrame(df.groupby(\"Zipcode\")[\"ROI\"].mean().sort_values(ascending=False).head(5))\n"
   ]
  },
  {
   "cell_type": "code",
   "execution_count": null,
   "metadata": {
    "colab": {
     "base_uri": "https://localhost:8080/",
     "height": 653
    },
    "id": "pFXF92ZCeiCq",
    "outputId": "b79fc992-f6ce-43cd-a0f6-eea1a7726696",
    "scrolled": true
   },
   "outputs": [],
   "source": [
    "ROI_topzipcodes.plot(kind='bar', figsize=(20,10), color=\"green\", fontsize=13);\n",
    "ax.set_alpha(0.8)\n",
    "\n",
    "ax.set_title(\"Zipcodes with the Highest ROI\", fontsize=26)\n",
    "ax.set_ylabel(\"Average ROI\", fontsize=20);\n",
    "ax.set_xlabel(\"Zipcodes\", fontsize=20)\n",
    "plt.xticks(fontsize= 18)\n",
    "plt.savefig(\"output.jpg\")\n",
    "plt.show()"
   ]
  },
  {
   "cell_type": "markdown",
   "metadata": {
    "id": "btn7Z2s2eiCr"
   },
   "source": [
    "The zipcodes with the highest ROI are Upper East Side- New York(10021), Sea Island- Georgia State (31561), - Manhattan -New York(10014), Brooklyn\n",
    "New York(11217), and Hanalei- Hawaii (96714).\n",
    "\n",
    "From the plot, New York state has the most zipcodes with the highest ROI."
   ]
  },
  {
   "cell_type": "markdown",
   "metadata": {
    "id": "kIU4FjEGeiCr"
   },
   "source": [
    "### 4.4. Which zipcodes have high price volatility?"
   ]
  },
  {
   "cell_type": "code",
   "execution_count": null,
   "metadata": {
    "id": "EzpwMb-FeiCr",
    "scrolled": true
   },
   "outputs": [],
   "source": [
    "CV_topzipcodes = pd.DataFrame(df.groupby(\"Zipcode\")[\"CV\"].mean().sort_values(ascending=False).head(5))"
   ]
  },
  {
   "cell_type": "code",
   "execution_count": null,
   "metadata": {
    "colab": {
     "base_uri": "https://localhost:8080/",
     "height": 688
    },
    "id": "RZOGeutjeiCr",
    "outputId": "71b39bf4-b538-494b-aaaf-93a49f8f732e",
    "scrolled": true
   },
   "outputs": [],
   "source": [
    "ax = CV_topzipcodes.plot(kind='bar', figsize=(20,10), color=\"green\", fontsize=13);\n",
    "ax.set_alpha(0.8)\n",
    "\n",
    "ax.set_title(\"Zipcodes with the Highest CV\", fontsize=26)\n",
    "ax.set_ylabel(\"Average CV\", fontsize=20);\n",
    "ax.set_xlabel(\"Zipcodes\", fontsize=20)\n",
    "plt.xticks(fontsize= 18)\n",
    "plt.savefig(\"output.jpg\")\n",
    "plt.show()"
   ]
  },
  {
   "cell_type": "markdown",
   "metadata": {
    "id": "viy5-X32eiCr"
   },
   "source": [
    "CV represents the coefficient of variation and how values deviate from the mean. Therefore, a high CV shows the price deviates further from the mean and means that there is presence of high price volatility. Areas with high price volatility may present the problem of being predicted effectively and hence can be an issue for investors looking to predict future median house sale prices.\n",
    "\n",
    "The zipcodes with the highest price volatility are:\n",
    "- 02116\n",
    "   Boston- Massachusetts \n",
    "- 56041\n",
    "   New Ulm- Minnesota  \n",
    "- 16102\n",
    "   New Castle-Pennsylavia \n",
    "- 43103\n",
    "   Ohio-Colombus  \n",
    "- 31027\n",
    "   Dublin-Georgia \n",
    "   \n",
    " This means that real estate investors cannot invest in these areas."
   ]
  },
  {
   "cell_type": "markdown",
   "metadata": {
    "id": "lZsHTKN0eiCr"
   },
   "source": [
    "### 4.5 What is the trend of median houseprices over the years?"
   ]
  },
  {
   "cell_type": "code",
   "execution_count": null,
   "metadata": {
    "id": "OVmlxnLxeiCs",
    "scrolled": true
   },
   "outputs": [],
   "source": [
    "#new_df.resample('M', convention='end').asfreq()\n",
    "resampled = new_df.resample('M', level=0).sum()"
   ]
  },
  {
   "cell_type": "code",
   "execution_count": null,
   "metadata": {
    "colab": {
     "base_uri": "https://localhost:8080/",
     "height": 623
    },
    "id": "1Le2J_eReiCs",
    "outputId": "623baaa2-da6b-4d8e-a3da-8da1e146ebaf",
    "scrolled": false
   },
   "outputs": [],
   "source": [
    "resampled.median_houseprice.plot(figsize=(15,10), color=\"green\")\n",
    "plt.title('Home Values Across Months by Zip Codes', fontsize=(16))\n",
    "plt.ylabel('median house prices')\n",
    "plt.show()"
   ]
  },
  {
   "cell_type": "markdown",
   "metadata": {
    "id": "A6c6jE5_eiCs"
   },
   "source": [
    "Aside from the increasing trend, there seems to be no particular seasonality for our plot across the months. There however seems\n",
    "to have been a spike around the price of houses in 2008 which can be explained by the global recession that affected the housing\n",
    "market in the US"
   ]
  },
  {
   "cell_type": "markdown",
   "metadata": {
    "id": "k7JV5FI_eiCt"
   },
   "source": [
    "__What is the trend of the Median House prices over the years?__"
   ]
  },
  {
   "cell_type": "code",
   "execution_count": null,
   "metadata": {
    "colab": {
     "base_uri": "https://localhost:8080/",
     "height": 238
    },
    "id": "U4cN76vfeiCt",
    "outputId": "9f85c89c-c9c1-412e-cf67-0421d7d36b6a",
    "scrolled": true
   },
   "outputs": [],
   "source": [
    "# downsampling the data to explore the trend over the 22 years\n",
    "\n",
    "annual_resampled = new_df.resample('A', level=0).mean()\n",
    "annual_resampled.head()"
   ]
  },
  {
   "cell_type": "code",
   "execution_count": null,
   "metadata": {
    "colab": {
     "base_uri": "https://localhost:8080/",
     "height": 757
    },
    "id": "oRuXJjMoeiCt",
    "outputId": "3f2e0ebf-7d50-4df0-f83c-54e0b11a6fb3",
    "scrolled": false
   },
   "outputs": [],
   "source": [
    "annual_resampled.median_houseprice.plot(figsize=(20, 12), color=\"green\")\n",
    "plt.title(\"Median House Prices over the years\", fontsize = 20)\n",
    "plt.xlabel(\"Years\", fontsize = 16)\n",
    "plt.xlabel(\"Median House Prices\", fontsize = 16)"
   ]
  },
  {
   "cell_type": "markdown",
   "metadata": {
    "id": "c_onGOVNeiCv"
   },
   "source": [
    "Since 1996, there was an increase in the median houses, however, the year 2008 and around 2016-2018 showed also a sharp spike\n",
    "in the median house prices. The year 2008 can be explained by the global recession. The rise in median house prices\n",
    "around 2016-2018 can be explained by the inflation spike that started in 2016 which also influenced the real estate market around\n",
    "the time."
   ]
  },
  {
   "cell_type": "markdown",
   "metadata": {
    "id": "R22SOjXqeiCw"
   },
   "source": [
    "The plot shows that the distribution is somewhat normal distribution."
   ]
  },
  {
   "cell_type": "markdown",
   "metadata": {
    "id": "RDht9N8EeiCx"
   },
   "source": [
    "__Heat Map__"
   ]
  },
  {
   "cell_type": "code",
   "execution_count": null,
   "metadata": {
    "id": "VG5dNex4eiCx"
   },
   "outputs": [],
   "source": [
    "# creating annual data using grouper function\n",
    "median_box = annual_resampled[\"median_houseprice\"].to_frame()\n"
   ]
  },
  {
   "cell_type": "code",
   "execution_count": null,
   "metadata": {
    "colab": {
     "base_uri": "https://localhost:8080/",
     "height": 163
    },
    "id": "TWx5MVVAeiCx",
    "outputId": "e2e49a14-115f-4aa8-d786-c7d54f666d8c"
   },
   "outputs": [],
   "source": [
    "## Transpose the yearly group DataFrame\n",
    "year_matrix = median_box.T\n",
    "\n",
    "# Draw a heatmap with matshow()\n",
    "plt.matshow(year_matrix, interpolation=None, aspect='auto', cmap=plt.cm.Spectral_r);"
   ]
  },
  {
   "cell_type": "markdown",
   "metadata": {
    "id": "qLM8K-y8eiCy"
   },
   "source": [
    "The heat map shows that the cooler colors which represent lower values earlier on in the years and higher median house prices can\n",
    "be seen around the period at the end of the data set (2017 and 2018) and around year 2008."
   ]
  },
  {
   "cell_type": "markdown",
   "metadata": {
    "id": "fVp8mao_XG8i"
   },
   "source": [
    "# 5. MODELLING"
   ]
  },
  {
   "cell_type": "code",
   "execution_count": null,
   "metadata": {
    "colab": {
     "base_uri": "https://localhost:8080/"
    },
    "id": "2f_iyajojey0",
    "outputId": "104616f1-65f7-4983-94a9-9d13cd3d11a6"
   },
   "outputs": [],
   "source": [
    "new_df.Zipcode"
   ]
  },
  {
   "cell_type": "code",
   "execution_count": null,
   "metadata": {
    "colab": {
     "base_uri": "https://localhost:8080/"
    },
    "id": "b-P_XTKH4FiE",
    "outputId": "af065bb8-89c3-4c48-b023-ffc4baf90136"
   },
   "outputs": [],
   "source": [
    "new_df.Zipcode.dtype"
   ]
  },
  {
   "cell_type": "code",
   "execution_count": null,
   "metadata": {
    "colab": {
     "base_uri": "https://localhost:8080/",
     "height": 238
    },
    "id": "__j0l-eyXJY0",
    "outputId": "49ef5361-903c-4a13-85bd-3c870bf4022a"
   },
   "outputs": [],
   "source": [
    "#top 5 zipcodes in terms of ROI\n",
    "top_5 =['10021','31561','10014','11217','96714']\n",
    "\n",
    "top5_df = new_df[new_df['Zipcode'].isin(top_5)]\n",
    "top5_df.head()"
   ]
  },
  {
   "cell_type": "code",
   "execution_count": null,
   "metadata": {
    "colab": {
     "base_uri": "https://localhost:8080/",
     "height": 238
    },
    "id": "fcKLMeUlZLt7",
    "outputId": "bfc4505c-8169-473a-eee2-959a1dbcf0d9"
   },
   "outputs": [],
   "source": [
    "# We will be using one of those zipcodes for modelling\n",
    "z_df = top5_df[top5_df['Zipcode'] =='10021']\n",
    "z_df.head()"
   ]
  },
  {
   "cell_type": "code",
   "execution_count": null,
   "metadata": {
    "colab": {
     "base_uri": "https://localhost:8080/"
    },
    "id": "ub1aXEPkakmx",
    "outputId": "a760ad17-1561-4d6e-a0e5-c2e6c0debb1d"
   },
   "outputs": [],
   "source": [
    "my_series =z_df['median_houseprice']\n",
    "my_series[:10]"
   ]
  },
  {
   "cell_type": "code",
   "execution_count": null,
   "metadata": {
    "id": "dYfi3pEMa8St"
   },
   "outputs": [],
   "source": []
  },
  {
   "cell_type": "markdown",
   "metadata": {
    "id": "7szwO4VEbIZY"
   },
   "source": [
    "## 5.1 Seasonality"
   ]
  },
  {
   "cell_type": "markdown",
   "metadata": {
    "id": "vZeDh3qFbG2m"
   },
   "source": [
    "Basically, a time series consists of four components(level,trend,seasonality,residuals). Variation of those components causes the change in the pattern of the time series.If seasonality and trend are part of the time series then there will be effects in the forecast value"
   ]
  },
  {
   "cell_type": "code",
   "execution_count": null,
   "metadata": {
    "id": "aY-gJ2F_bU-R"
   },
   "outputs": [],
   "source": [
    "# checking for trend, seasonality and residuals in data\n",
    "from statsmodels.tsa.seasonal import seasonal_decompose\n"
   ]
  },
  {
   "cell_type": "markdown",
   "metadata": {
    "id": "ooRKG--_bbRw"
   },
   "source": []
  },
  {
   "cell_type": "code",
   "execution_count": null,
   "metadata": {
    "id": "2_BcrUf7byoX"
   },
   "outputs": [],
   "source": [
    "def seasonal_decomposition(df):\n",
    "    decomposition = seasonal_decompose(df)\n",
    "    \n",
    "    # Gather the trend, seasonality, and residuals \n",
    "    trend = decomposition.trend\n",
    "    seasonal = decomposition.seasonal\n",
    "    residual = decomposition.resid\n",
    "\n",
    "# Plot gathered statistics\n",
    "    plt.figure(figsize=(8,8))\n",
    "    plt.subplot(411)\n",
    "    plt.plot(df, label='Original', color='blue')\n",
    "    #plt.plot(ts, label='Original', color='blue')\n",
    "    plt.legend(loc='best')\n",
    "    plt.subplot(412)\n",
    "    plt.plot(trend, label='Trend', color='blue')\n",
    "    plt.legend(loc='best')\n",
    "    plt.subplot(413)\n",
    "    plt.plot(seasonal,label='Seasonality', color='blue')\n",
    "    plt.legend(loc='best')\n",
    "    plt.subplot(414)\n",
    "    plt.plot(residual, label='Residuals', color='blue')\n",
    "    plt.legend(loc='best')\n",
    "    plt.tight_layout()"
   ]
  },
  {
   "cell_type": "code",
   "execution_count": null,
   "metadata": {
    "colab": {
     "base_uri": "https://localhost:8080/",
     "height": 585
    },
    "id": "yb4GoIwPbOWD",
    "outputId": "7936f6c0-28cd-41c4-c5d9-af459d2be28e"
   },
   "outputs": [],
   "source": [
    "seasonal_decomposition(my_series)"
   ]
  },
  {
   "cell_type": "code",
   "execution_count": null,
   "metadata": {
    "id": "rfNmCJC7b9B8"
   },
   "outputs": [],
   "source": []
  },
  {
   "cell_type": "markdown",
   "metadata": {
    "id": "mElozcpecO3a"
   },
   "source": [
    "* The straight line from 1996 to 2004 seems like data that was missing and was filled through interpolation.We will remove this data,since it might give the wrong perception during modelling"
   ]
  },
  {
   "cell_type": "code",
   "execution_count": null,
   "metadata": {
    "colab": {
     "base_uri": "https://localhost:8080/"
    },
    "id": "2VcdqRlrcZMH",
    "outputId": "6a603b81-2c16-43ac-9ff7-47ffcc82b205"
   },
   "outputs": [],
   "source": [
    "#remove data from 1996-2004\n",
    "series_2 = my_series['2004':]\n",
    "series_2.head()"
   ]
  },
  {
   "cell_type": "code",
   "execution_count": null,
   "metadata": {
    "colab": {
     "base_uri": "https://localhost:8080/"
    },
    "id": "Xwf7Fye6KLXB",
    "outputId": "aa7f05e7-f376-41fe-c209-0f48a834cb67"
   },
   "outputs": [],
   "source": [
    "series_2.tail()"
   ]
  },
  {
   "cell_type": "code",
   "execution_count": null,
   "metadata": {
    "colab": {
     "base_uri": "https://localhost:8080/",
     "height": 585
    },
    "id": "X3A4ovJoA5h7",
    "outputId": "6f82028e-cb6d-423f-d1c3-430bea1acb0c"
   },
   "outputs": [],
   "source": [
    "seasonal_decomposition(series_2)"
   ]
  },
  {
   "cell_type": "markdown",
   "metadata": {
    "id": "Q8CHWNPKBnca"
   },
   "source": [
    "* Now this gives a better view of our series components, with seasonality, trend and residual patterns clearly visible"
   ]
  },
  {
   "cell_type": "markdown",
   "metadata": {
    "id": "9YPz29cgcer_"
   },
   "source": [
    "## 5.2 Stationarity\n",
    "We will use dickey fuller test to confirm that indeed the data is not stationary"
   ]
  },
  {
   "cell_type": "code",
   "execution_count": null,
   "metadata": {
    "id": "VkEJRu3IceF_"
   },
   "outputs": [],
   "source": [
    "def check_stationarity(df):\n",
    "    result = adfuller(df)\n",
    "  \n",
    "    print('ADF Statistic: %f' % result[0])\n",
    "    print('p-value: %f' % result[1])\n",
    "    print('Critical Values:')\n",
    "    for key, value in result[4].items():\n",
    "        print('\\t%s: %.3f' % (key, value))"
   ]
  },
  {
   "cell_type": "code",
   "execution_count": null,
   "metadata": {
    "colab": {
     "base_uri": "https://localhost:8080/"
    },
    "id": "kLQ9YfMqcpUk",
    "outputId": "d1a87b6c-f757-47e8-97e9-f109260e5b4b"
   },
   "outputs": [],
   "source": [
    "check_stationarity(series_2)"
   ]
  },
  {
   "cell_type": "code",
   "execution_count": null,
   "metadata": {
    "id": "y7uNvHwOctfe"
   },
   "outputs": [],
   "source": []
  },
  {
   "cell_type": "markdown",
   "metadata": {
    "id": "8trBIP_3czgX"
   },
   "source": [
    "* **The p_value is greater than 0.05, and the test_statistic is also greater than the critical values,therefore we confirm that the time series is not stationary**"
   ]
  },
  {
   "cell_type": "code",
   "execution_count": null,
   "metadata": {
    "id": "CsMpYmZzc0aa"
   },
   "outputs": [],
   "source": []
  },
  {
   "cell_type": "markdown",
   "metadata": {
    "id": "XP2JDn-cc_zb"
   },
   "source": [
    "## 5.3  Detrending- through differencing\n",
    "Now, we remove the trend"
   ]
  },
  {
   "cell_type": "code",
   "execution_count": null,
   "metadata": {
    "id": "mSFDZ4kudChF"
   },
   "outputs": [],
   "source": [
    "def detrend(df):\n",
    "    '''function returns a stationary series'''\n",
    "    \n",
    "    diff_series = df.diff(1).diff(12).dropna()\n",
    "    return diff_series"
   ]
  },
  {
   "cell_type": "markdown",
   "metadata": {
    "id": "Na1X50IzezoM"
   },
   "source": [
    "One lag differencing was done to remove the trend and the 12 lag for the seasonality."
   ]
  },
  {
   "cell_type": "code",
   "execution_count": null,
   "metadata": {
    "colab": {
     "base_uri": "https://localhost:8080/"
    },
    "id": "xWhlYOg3dQxj",
    "outputId": "80e43f3a-2e1a-4d40-9948-a7c7ecc76105"
   },
   "outputs": [],
   "source": [
    "# we detrend our column using the function above \n",
    "detrended_series = detrend(series_2)\n",
    "\n",
    "#check the stationarity of the detrended column\n",
    "check_stationarity(detrended_series)"
   ]
  },
  {
   "cell_type": "code",
   "execution_count": null,
   "metadata": {
    "id": "AfWFeoIKdXv2"
   },
   "outputs": [],
   "source": []
  },
  {
   "cell_type": "markdown",
   "metadata": {
    "id": "3wrp7O_CdiMk"
   },
   "source": [
    " **The p_value is less than 0.05 and also the test statistic is less than all of the critical values. The series has been made stationary**"
   ]
  },
  {
   "cell_type": "code",
   "execution_count": null,
   "metadata": {
    "id": "IYHZzuk-do7u"
   },
   "outputs": [],
   "source": []
  },
  {
   "cell_type": "markdown",
   "metadata": {
    "id": "fDIpvIZodzYp"
   },
   "source": [
    "## 5.4 Autocorrelation and partial correlation of the detrended series\n",
    "The ACF can answer some questions like:<br>\n",
    "-Is the observed time series white noise / random?- non zero correlations show relationship between the data points<br>\n",
    "-Is an observation related to an adjacent observation or other points within it?<br>\n",
    "-Can the observed time series be modeled with an MA model?<br>"
   ]
  },
  {
   "cell_type": "code",
   "execution_count": null,
   "metadata": {
    "colab": {
     "base_uri": "https://localhost:8080/",
     "height": 545
    },
    "id": "1S77r4xed2fu",
    "outputId": "f3bf448e-bec0-4973-dd0f-2ea362ca93c4"
   },
   "outputs": [],
   "source": [
    "    \n",
    "acf_plot = plot_acf(detrended_series, title=\"ACF\")\n",
    "pacf_plot = plot_pacf(detrended_series, title=\"PACF\")"
   ]
  },
  {
   "cell_type": "code",
   "execution_count": null,
   "metadata": {
    "id": "y3C5qyX5d_Jr"
   },
   "outputs": [],
   "source": []
  },
  {
   "cell_type": "markdown",
   "metadata": {
    "id": "FOCVgPg9e7H4"
   },
   "source": [
    "There is autocorrelation in the time series at several lags. Therefore, the time series is non-random.There is also significant partial correlations which further continues to support that the series is not random"
   ]
  },
  {
   "cell_type": "code",
   "execution_count": null,
   "metadata": {
    "id": "OjHplfwBfDoB"
   },
   "outputs": [],
   "source": [
    "\n"
   ]
  },
  {
   "cell_type": "markdown",
   "metadata": {
    "id": "BrTCetTSfVGp"
   },
   "source": [
    "## 5.5 Time Series Modelling\n",
    "We saw that there is seasonality in the data, so the best model to use is one that also caters for seasonality-SARIMAX"
   ]
  },
  {
   "cell_type": "code",
   "execution_count": null,
   "metadata": {
    "id": "LzvdMg6zgpRC"
   },
   "outputs": [],
   "source": [
    "#using auto_arima- it does a random search for the best pdq,PDQS  \n",
    "sarima_model = pm.auto_arima(series_2, \n",
    "                             m=12,\n",
    "                             seasonal=True,\n",
    "                             start_p=0,\n",
    "                             start_q=0,\n",
    "                             start_P=0,\n",
    "                             start_Q=0,\n",
    "                             max_order=6, \n",
    "                             test='adf',\n",
    "                             error_action='warn',  \n",
    "                             suppress_warnings=True,\n",
    "                              stepwise=True,\n",
    "                              trace=False)"
   ]
  },
  {
   "cell_type": "markdown",
   "metadata": {
    "id": "xPQ7pC9QhAMn"
   },
   "source": [
    "* When evaluating and comparing statistical models fitted with different parameters, each can be ranked against one another based on how well it fits the data or its ability to accurately predict future data points\n",
    " \n",
    "* The Akaike Information Criterion (AIC) tests the goodness of fit.It rewards models that achieve a high goodness-of-fit with little complexity\n",
    "* A model that fits the data very well while using lots of features will be assigned a larger AIC score than a model that uses fewer features to achieve the same goodness-of-fit. \n",
    "* Auto_arima does a random search and comes up with the best parameters(from the given ones) that reduce the AIC."
   ]
  },
  {
   "cell_type": "code",
   "execution_count": null,
   "metadata": {
    "colab": {
     "base_uri": "https://localhost:8080/",
     "height": 387
    },
    "id": "FY5Fcld5gSJi",
    "outputId": "938ac1b3-3b6e-467b-e67e-9ca9f4d015e2"
   },
   "outputs": [],
   "source": [
    "sarima_model.summary()"
   ]
  },
  {
   "cell_type": "code",
   "execution_count": null,
   "metadata": {
    "id": "KjY6i1iqhFwp"
   },
   "outputs": [],
   "source": [
    "# This model has a high AIC. Will look for other values of pdq and s that might lower it"
   ]
  },
  {
   "cell_type": "code",
   "execution_count": null,
   "metadata": {
    "id": "2q2UH4jFhjRS"
   },
   "outputs": [],
   "source": [
    "# Define the p, d and q parameters to take any value between 0 and 2\n",
    "\n",
    "p = d = q = range(0,2)\n",
    "\n",
    "# Generate all different combinations of p, d , q and s\n",
    "pdq = list(itertools.product(p, d, q))\n",
    "pdqs = [(x[0], x[1], x[2], 12) for x in list(itertools.product(p, d, q))]"
   ]
  },
  {
   "cell_type": "code",
   "execution_count": null,
   "metadata": {
    "id": "A8B7wDjbi7hF"
   },
   "outputs": [],
   "source": [
    "\n",
    "ans = []\n",
    "for comb in pdq:    \n",
    "    for combs in pdqs:\n",
    "        try:\n",
    "            model = sm.tsa.statespace.SARIMAX(series_2,\n",
    "                                            order=comb,\n",
    "                                            seasonal_order=combs,\n",
    "                                            enforce_stationarity=False,\n",
    "                                            enforce_invertibility=False)\n",
    "            output = model.fit()\n",
    "            ans.append([comb, combs, output.aic])\n",
    "           \n",
    "        except:\n",
    "            continue"
   ]
  },
  {
   "cell_type": "code",
   "execution_count": null,
   "metadata": {
    "colab": {
     "base_uri": "https://localhost:8080/",
     "height": 424
    },
    "id": "aOnmRt_JjeGb",
    "outputId": "8f4b9dcc-1cdb-45fb-84f7-99df46b43918"
   },
   "outputs": [],
   "source": [
    "ans_df = pd.DataFrame(ans, columns=['pdq','pdqs', 'aic'])\n",
    "ans_df"
   ]
  },
  {
   "cell_type": "code",
   "execution_count": null,
   "metadata": {
    "colab": {
     "base_uri": "https://localhost:8080/"
    },
    "id": "8CYz2sOVjxq_",
    "outputId": "847878c2-7487-4a05-885d-25cd6e90980b"
   },
   "outputs": [],
   "source": [
    "ans_df.loc[ans_df['aic'].idxmin()]\n"
   ]
  },
  {
   "cell_type": "code",
   "execution_count": null,
   "metadata": {
    "id": "ria8r3Nxj8rj"
   },
   "outputs": [],
   "source": [
    "#There was an improvement in aic, so we use the order parameters pdq and pdqs shown above"
   ]
  },
  {
   "cell_type": "code",
   "execution_count": null,
   "metadata": {
    "colab": {
     "base_uri": "https://localhost:8080/"
    },
    "id": "MCoTjh8wlF0q",
    "outputId": "3e80846e-d5da-4d24-d0f5-d9b5feea71d3"
   },
   "outputs": [],
   "source": [
    "my_model = sm.tsa.statespace.SARIMAX(series_2,\n",
    "                                order=(1, 1, 1),\n",
    "                                seasonal_order=(1, 1, 1, 12),\n",
    "                                enforce_stationarity=False,\n",
    "                                enforce_invertibility=False)\n",
    "\n",
    "results = my_model.fit()\n",
    "\n",
    "print(results.summary())"
   ]
  },
  {
   "cell_type": "code",
   "execution_count": null,
   "metadata": {
    "id": "5ShgEan9mDOO"
   },
   "outputs": [],
   "source": []
  },
  {
   "cell_type": "markdown",
   "metadata": {
    "id": "aIwbSPg8mW53"
   },
   "source": [
    "* The aic has improved. So lets check the distribution of residuals for this model"
   ]
  },
  {
   "cell_type": "markdown",
   "metadata": {
    "id": "cMEaOjXFoUU-"
   },
   "source": [
    "## 5.1 Model Diagnostics"
   ]
  },
  {
   "cell_type": "code",
   "execution_count": null,
   "metadata": {
    "colab": {
     "base_uri": "https://localhost:8080/",
     "height": 730
    },
    "id": "W3AYgeYRmZjI",
    "outputId": "7d096f74-8120-4a93-f58a-f3fbc06ef76c"
   },
   "outputs": [],
   "source": [
    "results.plot_diagnostics(figsize=(15, 12))\n",
    "plt.show()"
   ]
  },
  {
   "cell_type": "markdown",
   "metadata": {
    "id": "o4naijgs7VXd"
   },
   "source": [
    " There is still correlation in  the residuals(shown by Correlogram) thus the model can be improved "
   ]
  },
  {
   "cell_type": "code",
   "execution_count": null,
   "metadata": {
    "colab": {
     "base_uri": "https://localhost:8080/"
    },
    "id": "oGPYcZv3mgNt",
    "outputId": "e51ec1b9-5fed-4b32-bd45-e87ea5e8a5f0"
   },
   "outputs": [],
   "source": [
    "my_model2 = sm.tsa.statespace.SARIMAX(series_2,\n",
    "                                order=(3, 1, 3),\n",
    "                                seasonal_order=(3, 1, 3, 12),\n",
    "                                enforce_stationarity=False,\n",
    "                                enforce_invertibility=False)\n",
    "\n",
    "results2 = my_model2.fit()\n",
    "\n",
    "print(results2.summary())"
   ]
  },
  {
   "cell_type": "code",
   "execution_count": null,
   "metadata": {
    "colab": {
     "base_uri": "https://localhost:8080/",
     "height": 730
    },
    "id": "WHoXi_F9nsGP",
    "outputId": "8dd7e487-c81c-48ea-ad78-aa331dc4d5b8"
   },
   "outputs": [],
   "source": [
    "results2.plot_diagnostics(figsize=(15, 12))\n",
    "plt.show()"
   ]
  },
  {
   "cell_type": "markdown",
   "metadata": {
    "id": "b0RxPcovoyB1"
   },
   "source": [
    "There is observed improvement in this new model. The AIC is lower, there is no correlation in the residuals and the Q-Q plot shows the residuals have been taken from a N(0,1). Also the histogram shows the distribution of the residuals with a mean of 0. So I will retain this model"
   ]
  },
  {
   "cell_type": "code",
   "execution_count": null,
   "metadata": {
    "id": "CF1qi-Brn0T8"
   },
   "outputs": [],
   "source": []
  },
  {
   "cell_type": "markdown",
   "metadata": {
    "id": "ScmrMRgXpjhc"
   },
   "source": [
    "## 5.7 Forecasting and Model Evaluation"
   ]
  },
  {
   "cell_type": "markdown",
   "metadata": {
    "id": "3cttIejWpuNL"
   },
   "source": [
    "We compare predicted values to real values of the time series, which will help us understand the accuracy of our forecasts"
   ]
  },
  {
   "cell_type": "markdown",
   "metadata": {
    "id": "Cx3_z2CzqLep"
   },
   "source": [
    "### 5.7.1 Non dynamic forecast\n",
    "uses in-sample prediction.The model sequentially predicts one-step-ahead using the true value from previous time step instead of using predicted value."
   ]
  },
  {
   "cell_type": "code",
   "execution_count": null,
   "metadata": {
    "id": "zUQTiJR1pnrL"
   },
   "outputs": [],
   "source": [
    "pred = results2.get_prediction(start=pd.to_datetime('2015-01-01'), dynamic=False)\n",
    "\n",
    "pred_ci = pred.conf_int() # this gives us the confidence interval for our forecasts"
   ]
  },
  {
   "cell_type": "code",
   "execution_count": null,
   "metadata": {
    "colab": {
     "base_uri": "https://localhost:8080/",
     "height": 513
    },
    "id": "NThjSZCypz6h",
    "outputId": "212edf1e-b7e1-4c75-d428-d94123ba7e20"
   },
   "outputs": [],
   "source": [
    "plt.figure(figsize = (15,8))\n",
    "ax = series_2['2012':].plot(label='observed',color='black')\n",
    "pred.predicted_mean.plot(ax=ax, label='Forecast', color='red',alpha=0.8)\n",
    "\n",
    "ax.fill_between(pred_ci.index,\n",
    "                pred_ci.iloc[:, 0],\n",
    "                pred_ci.iloc[:, 1], color='k', alpha=0.5)\n",
    "\n",
    "ax.set_title('Dynamic Forecast from 2015-2018')\n",
    "ax.set_xlabel('Date')\n",
    "ax.set_ylabel('Amount')\n",
    "plt.legend()\n",
    "\n",
    "plt.show()"
   ]
  },
  {
   "cell_type": "code",
   "execution_count": null,
   "metadata": {
    "colab": {
     "base_uri": "https://localhost:8080/"
    },
    "id": "4mFaYoLZp9oY",
    "outputId": "416faa70-c388-4bfb-c7a9-ca171de994bf"
   },
   "outputs": [],
   "source": [
    "# evaluation\n",
    "y_forecasted1 = pred.predicted_mean\n",
    "y_truth1 = series_2['2015-01-01':]\n",
    "mean_absolute_percentage_error(y_truth1, y_forecasted1)"
   ]
  },
  {
   "cell_type": "markdown",
   "metadata": {
    "id": "Eh4lrPeYqVlq"
   },
   "source": [
    "#### 5.7.2 Dynamic Forecast\n",
    "uses out-of-sample prediction.The model continuously predicts one-step ahead (t+1) and then for the 2nd step ahead (t+2) prediction, it appends predicted value (t+1) to data, re-fits model on new expanded data then makes 2nd step ahead forecast."
   ]
  },
  {
   "cell_type": "code",
   "execution_count": null,
   "metadata": {
    "id": "MJRv8glKqZAY"
   },
   "outputs": [],
   "source": [
    "pred_dynamic = results2.get_prediction(start=pd.to_datetime('2015-01-01'), dynamic=True)\n",
    "pred_dynamic_ci = pred_dynamic.conf_int()"
   ]
  },
  {
   "cell_type": "code",
   "execution_count": null,
   "metadata": {
    "colab": {
     "base_uri": "https://localhost:8080/",
     "height": 513
    },
    "id": "jWEXpzDcqcg5",
    "outputId": "f629c1c8-f6b5-4fbb-b9c6-c9ea7a3d2697"
   },
   "outputs": [],
   "source": [
    "plt.figure(figsize = (15,8))\n",
    "ax = series_2['2012':].plot(label='observed',color='black')\n",
    "pred_dynamic.predicted_mean.plot(ax=ax, label='Forecast', color='red',alpha=0.8)\n",
    "\n",
    "ax.fill_between(pred_dynamic_ci.index,\n",
    "                pred_dynamic_ci.iloc[:, 0],\n",
    "                pred_dynamic_ci.iloc[:, 1], color='k', alpha=.5)\n",
    "\n",
    "ax.set_title('Non dynamic Forecast from 2015-2018')\n",
    "ax.set_xlabel('Date')\n",
    "ax.set_ylabel('Amount')\n",
    "plt.legend()\n",
    "\n",
    "plt.show()"
   ]
  },
  {
   "cell_type": "code",
   "execution_count": null,
   "metadata": {
    "colab": {
     "base_uri": "https://localhost:8080/"
    },
    "id": "GrC800zqqkEQ",
    "outputId": "89ae5b81-ba08-4fa7-adc6-29b11a88e94c"
   },
   "outputs": [],
   "source": [
    "# Evaluation\n",
    "y_forecasted2 = pred_dynamic.predicted_mean\n",
    "y_truth2 = series_2['2015-01-01':]\n",
    "mean_absolute_percentage_error(y_truth2, y_forecasted2)"
   ]
  },
  {
   "cell_type": "code",
   "execution_count": null,
   "metadata": {
    "id": "qp1OKnrSsFKx"
   },
   "outputs": [],
   "source": []
  },
  {
   "cell_type": "code",
   "execution_count": null,
   "metadata": {
    "id": "lQl8Ht23tISB"
   },
   "outputs": [],
   "source": []
  },
  {
   "cell_type": "markdown",
   "metadata": {
    "id": "64wsmK8ZtRzP"
   },
   "source": [
    "## 5.8 Future prediction"
   ]
  },
  {
   "cell_type": "code",
   "execution_count": null,
   "metadata": {
    "id": "6EvTB8W6tVIU"
   },
   "outputs": [],
   "source": [
    "pred_uc = results2.get_forecast(steps=36)#prediction 3 years into the future\n",
    "\n",
    "# Get confidence intervals of forecasts\n",
    "pred_ci = pred_uc.conf_int()"
   ]
  },
  {
   "cell_type": "code",
   "execution_count": null,
   "metadata": {
    "colab": {
     "base_uri": "https://localhost:8080/",
     "height": 508
    },
    "id": "1G2NzsOptgQw",
    "outputId": "b238bcf5-2842-49e0-8f8d-f9bae48a0abc"
   },
   "outputs": [],
   "source": [
    "ax = series_2.plot(label='observed', figsize=(15, 8))\n",
    "pred_uc.predicted_mean.plot(ax=ax, label='Forecast')\n",
    "ax.fill_between(pred_ci.index,\n",
    "                pred_ci.iloc[:, 0],\n",
    "                pred_ci.iloc[:, 1], color='k', alpha=.25)\n",
    "ax.set_xlabel('Date')\n",
    "ax.set_ylabel('Amount')\n",
    "\n",
    "plt.legend()\n",
    "plt.show()"
   ]
  },
  {
   "cell_type": "code",
   "execution_count": null,
   "metadata": {
    "id": "BNI4ZbVlWlZH"
   },
   "outputs": [],
   "source": []
  },
  {
   "cell_type": "markdown",
   "metadata": {
    "id": "4Q8nf2JSBVPx"
   },
   "source": [
    "Our seasonal arima shows a drop in price in the coming years. Lets see the trend with an fbprophet model"
   ]
  },
  {
   "cell_type": "markdown",
   "metadata": {
    "id": "MoePC8rgkZHa"
   },
   "source": [
    "### fbprophet Model"
   ]
  },
  {
   "cell_type": "code",
   "execution_count": null,
   "metadata": {
    "id": "E6ZAO3PSkcpV"
   },
   "outputs": [],
   "source": [
    "from fbprophet import Prophet"
   ]
  },
  {
   "cell_type": "code",
   "execution_count": null,
   "metadata": {
    "colab": {
     "base_uri": "https://localhost:8080/",
     "height": 455
    },
    "id": "5G_yX32xk4qS",
    "outputId": "71f76704-3245-41cb-99ff-bac35c9d63c5"
   },
   "outputs": [],
   "source": [
    "series_p = z_df.copy()\n",
    "series_p = series_p[series_p.Zipcode=='10021']\n",
    "series_p"
   ]
  },
  {
   "cell_type": "code",
   "execution_count": null,
   "metadata": {
    "colab": {
     "base_uri": "https://localhost:8080/",
     "height": 455
    },
    "id": "bZCTch4T3fwp",
    "outputId": "f0a7ab7f-785f-4b9c-a673-2f05d3cd36c0"
   },
   "outputs": [],
   "source": [
    "series_p['Date'] = series_p.index\n",
    "series_p"
   ]
  },
  {
   "cell_type": "code",
   "execution_count": null,
   "metadata": {
    "id": "hvjsUPJF38EK"
   },
   "outputs": [],
   "source": [
    "series_p = series_p[['Date','median_houseprice']]\n",
    "series_p = series_p.reset_index(drop=True)"
   ]
  },
  {
   "cell_type": "code",
   "execution_count": null,
   "metadata": {
    "colab": {
     "base_uri": "https://localhost:8080/",
     "height": 206
    },
    "id": "jYUd_RV85NGk",
    "outputId": "edf7de39-27df-4094-8cf0-659cd817695b"
   },
   "outputs": [],
   "source": [
    "series_p.head()"
   ]
  },
  {
   "cell_type": "code",
   "execution_count": null,
   "metadata": {
    "colab": {
     "base_uri": "https://localhost:8080/",
     "height": 206
    },
    "id": "rVwRAo6m5j9o",
    "outputId": "d174baf8-0187-4333-9e0b-9d1ead7425f9"
   },
   "outputs": [],
   "source": [
    "#data from 2004\n",
    "series_p = series_p[series_p.Date >='2004-01-01']\n",
    "series_p.columns = ['ds','y']\n",
    "series_p.head()"
   ]
  },
  {
   "cell_type": "code",
   "execution_count": null,
   "metadata": {
    "colab": {
     "base_uri": "https://localhost:8080/"
    },
    "id": "8HJtbCvr6eoZ",
    "outputId": "d8f19c9e-132f-4146-ae9c-a686ca1b2f36"
   },
   "outputs": [],
   "source": [
    "m= Prophet()\n",
    "m.fit(series_p)"
   ]
  },
  {
   "cell_type": "code",
   "execution_count": null,
   "metadata": {
    "colab": {
     "base_uri": "https://localhost:8080/",
     "height": 424
    },
    "id": "QyXf0iMP6o09",
    "outputId": "b40ecce9-70c0-4258-97a3-07cbce076d9e"
   },
   "outputs": [],
   "source": [
    "#making predictions\n",
    "future_dates = m.make_future_dataframe(periods=36,freq='MS')\n",
    "forecast = m.predict(future_dates)\n",
    "\n",
    "forecasted_data=forecast[['ds', 'yhat', 'yhat_lower', 'yhat_upper']]\n",
    "forecasted_data"
   ]
  },
  {
   "cell_type": "code",
   "execution_count": null,
   "metadata": {
    "colab": {
     "base_uri": "https://localhost:8080/",
     "height": 870
    },
    "id": "3-1UF2eX7rLO",
    "outputId": "62c47d5c-03a3-4126-e6a7-9323ebaa6404"
   },
   "outputs": [],
   "source": [
    "m.plot(forecast, uncertainty=True)\n",
    "plt.title('Zipcode 10021')\n",
    "plt.ylabel('Real Estate Value')\n",
    "plt.xlabel('Year')\n",
    "m.plot_components(forecast)\n",
    "plt.title('Zipcode 10021')\n",
    "plt.ylabel('Real Estate Value')\n",
    "plt.xlabel('Yearly Trend');"
   ]
  },
  {
   "cell_type": "code",
   "execution_count": null,
   "metadata": {
    "colab": {
     "base_uri": "https://localhost:8080/"
    },
    "id": "6W78uwmHEBmP",
    "outputId": "e968efd2-467e-4b14-ac04-5f03cb1afb12"
   },
   "outputs": [],
   "source": [
    "# Evaluating the prophet model\n",
    "y_true = series_2['2015-01-01':]\n",
    "pred1 = forecasted_data[forecasted_data['ds']>='2015-01-01']\n",
    "y_pred = pred1[pred1['ds']<='2018-04-01']['yhat']\n",
    "mape = mean_absolute_percentage_error(y_true, y_pred)\n",
    "mape"
   ]
  },
  {
   "cell_type": "markdown",
   "metadata": {
    "id": "zaSDbx-dPkmo"
   },
   "source": [
    "# Conclusion"
   ]
  },
  {
   "cell_type": "markdown",
   "metadata": {
    "id": "9ZLDXWUjPnKY"
   },
   "source": [
    "* There is a difference in the forecast between our model and the prophet model\n",
    "* The prophet model has a higher MAPE than our dynamic model. So we would confidently go with our model.\n",
    "* In future analysis, we would need to do analysis of the different zipcodes to be able to answer the investors question, as with this specific zipcode used, we would highly discourage the investor to invest there at the moment\n",
    "* We would need to split our data into train and test set and redo the analysis with this data."
   ]
  }
 ],
 "metadata": {
  "colab": {
   "name": " Time-Series-Modeling-Forecasting-Zillow-Real-Estate-Prices.ipynb",
   "provenance": []
  },
  "kernelspec": {
   "display_name": "Python 3",
   "language": "python",
   "name": "python3"
  },
  "language_info": {
   "codemirror_mode": {
    "name": "ipython",
    "version": 3
   },
   "file_extension": ".py",
   "mimetype": "text/x-python",
   "name": "python",
   "nbconvert_exporter": "python",
   "pygments_lexer": "ipython3",
   "version": "3.8.5"
  },
  "toc": {
   "base_numbering": 1,
   "nav_menu": {},
   "number_sections": true,
   "sideBar": true,
   "skip_h1_title": false,
   "title_cell": "Table of Contents",
   "title_sidebar": "Contents",
   "toc_cell": false,
   "toc_position": {},
   "toc_section_display": true,
   "toc_window_display": false
  }
 },
 "nbformat": 4,
 "nbformat_minor": 1
}
